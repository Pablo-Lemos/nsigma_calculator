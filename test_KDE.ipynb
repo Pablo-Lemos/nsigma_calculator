{
 "cells": [
  {
   "cell_type": "markdown",
   "metadata": {},
   "source": [
    "The goal of this notebook is to test the performance of Kernel Density Estimation (KDE) of the probability distribution function (PDF) for different number of dimensions. \n",
    "\n",
    "The notebook uses scipy's implementation of KDE. It uses two Nested Sampling chains generated using PolyChord, from Gaussian likelihoods with flat priors. This means that we know what the true values of the log-likelihood is."
   ]
  },
  {
   "cell_type": "markdown",
   "metadata": {},
   "source": [
    "Written by Pablo Lemos (UCL)\n",
    "\n",
    "pablo.lemos.18@ucl.ac.uk\n",
    "\n",
    "Feb 2020"
   ]
  },
  {
   "cell_type": "code",
   "execution_count": 1,
   "metadata": {},
   "outputs": [],
   "source": [
    "%matplotlib inline\n",
    "\n",
    "import numpy as np\n",
    "from matplotlib import pyplot as plt\n",
    "from kde_method import *\n",
    "from stats import *\n",
    "from gaussian_approximation import get_pte_from_gaussian\n",
    "from scipy.stats import norm, multivariate_normal"
   ]
  },
  {
   "cell_type": "markdown",
   "metadata": {},
   "source": [
    "#  Two-dimensional case"
   ]
  },
  {
   "cell_type": "markdown",
   "metadata": {},
   "source": [
    "First, we test the performance of the KDE on a two dimensional case. The PolyChord chains have been generated from a Gaussian likelihood centered at zero and with identity covariance. "
   ]
  },
  {
   "cell_type": "markdown",
   "metadata": {},
   "source": [
    "We start by loading the chains"
   ]
  },
  {
   "cell_type": "code",
   "execution_count": 2,
   "metadata": {},
   "outputs": [],
   "source": [
    "path_to_chains = path_to_chains = 'chains/gaussian_2d'\n",
    "weights_2d, loglike_2d, X_2d = load_chains(path_to_chains)"
   ]
  },
  {
   "cell_type": "markdown",
   "metadata": {},
   "source": [
    "We now use KDE to estimate the log likelihood for each sample"
   ]
  },
  {
   "cell_type": "code",
   "execution_count": 3,
   "metadata": {},
   "outputs": [],
   "source": [
    "kde = fit_kde(X_2d, weights_2d)\n",
    "loglike_kde = get_kde_loglike(X_2d, kde)"
   ]
  },
  {
   "cell_type": "markdown",
   "metadata": {},
   "source": [
    "Because we know the true log likelihood, we can compare the estimate and the truth"
   ]
  },
  {
   "cell_type": "code",
   "execution_count": 4,
   "metadata": {},
   "outputs": [
    {
     "data": {
      "image/png": "[encoded data removed]",
      "text/plain": [
       "<Figure size 432x288 with 1 Axes>"
      ]
     },
     "metadata": {
      "needs_background": "light"
     },
     "output_type": "display_data"
    }
   ],
   "source": [
    "plt.figure()\n",
    "plt.plot(loglike_2d, label='Truth')\n",
    "plt.plot(loglike_kde, label='KDE')\n",
    "plt.xlabel('Sample number')\n",
    "plt.ylabel(r'$\\log \\mathcal{L}$')\n",
    "plt.title('2 Dimensions')\n",
    "plt.legend()\n",
    "plt.savefig('./FIGS/logl_2d.pdf')"
   ]
  },
  {
   "cell_type": "code",
   "execution_count": 5,
   "metadata": {},
   "outputs": [
    {
     "data": {
      "image/png": "[encoded data removed]",
      "text/plain": [
       "<Figure size 432x288 with 1 Axes>"
      ]
     },
     "metadata": {
      "needs_background": "light"
     },
     "output_type": "display_data"
    }
   ],
   "source": [
    "plt.figure()\n",
    "plt.plot(loglike_kde-loglike_2d, label='Residual')\n",
    "plt.axhline(0, color = 'k', ls = '--')\n",
    "plt.title('2 Dimensions')\n",
    "plt.xlabel('Sample number')\n",
    "plt.ylabel(r'$\\Delta \\log \\mathcal{L}$')\n",
    "plt.legend()\n",
    "plt.savefig('./FIGS/logl_residuals_2d.pdf')"
   ]
  },
  {
   "cell_type": "markdown",
   "metadata": {},
   "source": [
    "We see that while the estimates far in the tails are inaccurate, most of the estimates are very good"
   ]
  },
  {
   "cell_type": "markdown",
   "metadata": {},
   "source": [
    "We can also check if a KDE estimated PTE and number of sigma are accurate. We will test that using a point with x = 1 for every dimension. "
   ]
  },
  {
   "cell_type": "code",
   "execution_count": 6,
   "metadata": {},
   "outputs": [],
   "source": [
    "mean = np.zeros(2)\n",
    "cov = np.identity(2)\n",
    "x = np.ones(2)\n",
    "\n",
    "# The true log-likelihood of x\n",
    "loglike_x = multivariate_normal.logpdf(x, mean=mean, cov=cov)"
   ]
  },
  {
   "cell_type": "code",
   "execution_count": 7,
   "metadata": {},
   "outputs": [
    {
     "name": "stdout",
     "output_type": "stream",
     "text": [
      "PTE = 0.3339700242963761\n",
      "Number of sigma = 0.9661482087697499\n"
     ]
    }
   ],
   "source": [
    "pte = get_pte_from_samples(x, loglike_x, loglike_2d, weights_2d)\n",
    "nsigma = get_nsigma(pte)\n",
    "\n",
    "print('PTE =', pte)\n",
    "print('Number of sigma =', nsigma)"
   ]
  },
  {
   "cell_type": "markdown",
   "metadata": {},
   "source": [
    "In fact, in this case, we do not even need to use the PolyChord samples, as we can just generate a large number of samples"
   ]
  },
  {
   "cell_type": "code",
   "execution_count": 8,
   "metadata": {},
   "outputs": [],
   "source": [
    "# The number of samples used in the PTE estimation\n",
    "nsamples = int(1e6) "
   ]
  },
  {
   "cell_type": "code",
   "execution_count": 9,
   "metadata": {},
   "outputs": [
    {
     "name": "stdout",
     "output_type": "stream",
     "text": [
      "PTE = 0.367733\n",
      "Number of sigma = 0.9007279200765931\n"
     ]
    }
   ],
   "source": [
    "pte = get_pte_from_gaussian(x, mean, cov, nsamples)\n",
    "nsigma = get_nsigma(pte)\n",
    "\n",
    "print('PTE =', pte)\n",
    "print('Number of sigma =', nsigma)"
   ]
  },
  {
   "cell_type": "markdown",
   "metadata": {},
   "source": [
    "And the results are very similar. Note that the difference is caused by the polychord being low resolution, for speed and to reduce the size of files"
   ]
  },
  {
   "cell_type": "markdown",
   "metadata": {},
   "source": [
    "We can compare this truth with the PTE obtained using the KDE"
   ]
  },
  {
   "cell_type": "code",
   "execution_count": 10,
   "metadata": {},
   "outputs": [
    {
     "name": "stdout",
     "output_type": "stream",
     "text": [
      "True log-like:  -2.8378770664093453\n",
      "KDE log-like:  -2.8135941365361976\n"
     ]
    }
   ],
   "source": [
    "loglike_x_kde = get_kde_loglike(x, kde)\n",
    "\n",
    "print('True log-like: ', loglike_x)\n",
    "print('KDE log-like: ', loglike_x_kde[0])"
   ]
  },
  {
   "cell_type": "code",
   "execution_count": 11,
   "metadata": {},
   "outputs": [
    {
     "name": "stdout",
     "output_type": "stream",
     "text": [
      "PTE = 0.3416058393393351\n",
      "Number of sigma = 0.9509971170862905\n"
     ]
    }
   ],
   "source": [
    "pte = get_pte_from_samples(x, loglike_x_kde, loglike_kde, weights_2d)\n",
    "nsigma = get_nsigma(pte)\n",
    "\n",
    "print('PTE =', pte)\n",
    "print('Number of sigma =', nsigma)"
   ]
  },
  {
   "cell_type": "markdown",
   "metadata": {},
   "source": [
    "Again, this is a veey good estimate of PTE and number of sigma"
   ]
  },
  {
   "cell_type": "markdown",
   "metadata": {},
   "source": [
    "# Five dimensional case"
   ]
  },
  {
   "cell_type": "markdown",
   "metadata": {},
   "source": [
    "We now do the exact the same, with a similar likelihood, but in five dimensions. First we load the chain:"
   ]
  },
  {
   "cell_type": "code",
   "execution_count": 12,
   "metadata": {},
   "outputs": [],
   "source": [
    "path_to_chains = path_to_chains = 'chains/gaussian_5D'\n",
    "weights_5d, loglike_5d, X_5d = load_chains(path_to_chains)"
   ]
  },
  {
   "cell_type": "markdown",
   "metadata": {},
   "source": [
    "We fit and obtain a KDE log-likelihood"
   ]
  },
  {
   "cell_type": "code",
   "execution_count": 13,
   "metadata": {},
   "outputs": [],
   "source": [
    "kde = fit_kde(X_5d, weights_5d)\n",
    "loglike_kde = get_kde_loglike(X_5d, kde)"
   ]
  },
  {
   "cell_type": "code",
   "execution_count": 14,
   "metadata": {},
   "outputs": [],
   "source": [
    "loglike_kde = get_kde_loglike(X_5d, kde)"
   ]
  },
  {
   "cell_type": "markdown",
   "metadata": {},
   "source": [
    "We produce some plots to compare the truth with the KDE likelihood estimate"
   ]
  },
  {
   "cell_type": "code",
   "execution_count": 15,
   "metadata": {},
   "outputs": [
    {
     "data": {
      "image/png": "[encoded data removed]",
      "text/plain": [
       "<Figure size 432x288 with 1 Axes>"
      ]
     },
     "metadata": {
      "needs_background": "light"
     },
     "output_type": "display_data"
    }
   ],
   "source": [
    "plt.figure()\n",
    "plt.plot(loglike_5d, label='Truth')\n",
    "plt.plot(loglike_kde, label='KDE')\n",
    "plt.title('5 Dimensions')\n",
    "plt.xlabel('Sample number')\n",
    "plt.ylabel(r'$\\Delta \\log \\mathcal{L}$')\n",
    "plt.legend()\n",
    "plt.savefig('./FIGS/logl_5d.pdf')"
   ]
  },
  {
   "cell_type": "code",
   "execution_count": 16,
   "metadata": {},
   "outputs": [
    {
     "data": {
      "image/png": "[encoded data removed]",
      "text/plain": [
       "<Figure size 432x288 with 1 Axes>"
      ]
     },
     "metadata": {
      "needs_background": "light"
     },
     "output_type": "display_data"
    }
   ],
   "source": [
    "plt.figure()\n",
    "plt.plot(loglike_kde-loglike_5d, label='Residual')\n",
    "plt.axhline(0, color = 'k', ls = '--')\n",
    "plt.title('5 Dimensions')\n",
    "plt.xlabel('Sample number')\n",
    "plt.ylabel(r'$\\Delta \\log \\mathcal{L}$')\n",
    "plt.legend()\n",
    "plt.savefig('./FIGS/logl_residuals_5d.pdf')"
   ]
  },
  {
   "cell_type": "markdown",
   "metadata": {},
   "source": [
    "This time there is clearly a problem! The KDE estimate of the likelihood is significantly higher than the truth, and this trend seems to appear for more than half of the chain. This will lead to an inaccurate estimate of the PTE. Let's test it"
   ]
  },
  {
   "cell_type": "code",
   "execution_count": 17,
   "metadata": {},
   "outputs": [],
   "source": [
    "mean = np.zeros(5)\n",
    "cov = np.identity(5)\n",
    "x = np.ones(5)\n",
    "\n",
    "# The true log-likelihood of x\n",
    "loglike_x = multivariate_normal.logpdf(x, mean=mean, cov=cov)"
   ]
  },
  {
   "cell_type": "code",
   "execution_count": 18,
   "metadata": {},
   "outputs": [
    {
     "name": "stdout",
     "output_type": "stream",
     "text": [
      "PTE = 0.4320446972691723\n",
      "Number of sigma = 0.785697552800761\n"
     ]
    }
   ],
   "source": [
    "pte = get_pte_from_samples(x, loglike_x, loglike_5d, weights_5d)\n",
    "nsigma = get_nsigma(pte)\n",
    "\n",
    "print('PTE =', pte)\n",
    "print('Number of sigma =', nsigma)"
   ]
  },
  {
   "cell_type": "markdown",
   "metadata": {},
   "source": [
    "We compare the estimate from PolyChord samples to an estimate from generating a much larger number of samples"
   ]
  },
  {
   "cell_type": "code",
   "execution_count": 19,
   "metadata": {},
   "outputs": [],
   "source": [
    "# The number of samples used in the PTE estimation\n",
    "nsamples = int(1e6) "
   ]
  },
  {
   "cell_type": "code",
   "execution_count": 20,
   "metadata": {},
   "outputs": [
    {
     "name": "stdout",
     "output_type": "stream",
     "text": [
      "PTE = 0.415412\n",
      "Number of sigma = 0.8144067028756895\n"
     ]
    }
   ],
   "source": [
    "pte = get_pte_from_gaussian(x, mean, cov, nsamples)\n",
    "nsigma = get_nsigma(pte)\n",
    "\n",
    "print('PTE =', pte)\n",
    "print('Number of sigma =', nsigma)"
   ]
  },
  {
   "cell_type": "markdown",
   "metadata": {},
   "source": [
    "Again, despite the low resolution settings of the PolyChord chains, the results are similar"
   ]
  },
  {
   "cell_type": "markdown",
   "metadata": {},
   "source": [
    "Now we estimate PTE and number of sigma from the KDE"
   ]
  },
  {
   "cell_type": "code",
   "execution_count": 21,
   "metadata": {},
   "outputs": [
    {
     "name": "stdout",
     "output_type": "stream",
     "text": [
      "True log-like:  -7.094692666023363\n",
      "KDE log-like:  -6.6254553454511935\n"
     ]
    }
   ],
   "source": [
    "loglike_x_kde = get_kde_loglike(x, kde)\n",
    "\n",
    "print('True log-like: ', loglike_x)\n",
    "print('KDE log-like: ', loglike_x_kde[0])"
   ]
  },
  {
   "cell_type": "markdown",
   "metadata": {},
   "source": [
    "This is already worrying, the KDE estimate of the log-likelihoods is far from the true value"
   ]
  },
  {
   "cell_type": "code",
   "execution_count": 22,
   "metadata": {},
   "outputs": [
    {
     "name": "stdout",
     "output_type": "stream",
     "text": [
      "PTE = 0.3162344133794155\n",
      "Number of sigma = 1.0022260824254132\n"
     ]
    }
   ],
   "source": [
    "pte = get_pte_from_samples(x, loglike_x_kde, loglike_kde, weights_5d)\n",
    "nsigma = get_nsigma(pte)\n",
    "\n",
    "print('PTE =', pte)\n",
    "print('Number of sigma =', nsigma)"
   ]
  },
  {
   "cell_type": "markdown",
   "metadata": {},
   "source": [
    "The number of sigma is completely off! This means that we cannot trust the 5 dimensional KDE, at least not with these settings"
   ]
  },
  {
   "cell_type": "markdown",
   "metadata": {},
   "source": [
    "# Possible solutions"
   ]
  },
  {
   "cell_type": "markdown",
   "metadata": {},
   "source": [
    "I have some ideas about things to do. I would like to know what people think.\n",
    "\n",
    "- Using a different kernel or bandwidth. I have no experience working with KDE. If there are better settings to use in a case like this, let me know. \n",
    "- Using a different KDE implementation, such as fastKDE. Again, if you have experience in this that would be very helpful\n",
    "- Using some parametric reconstruction of the PDF, instead of a KDE. Here the problem is that we will probably run into Gaussian or similar approximations, which we are trying to avoid."
   ]
  },
  {
   "cell_type": "code",
   "execution_count": null,
   "metadata": {},
   "outputs": [],
   "source": []
  },
  {
   "cell_type": "code",
   "execution_count": null,
   "metadata": {},
   "outputs": [],
   "source": []
  }
 ],
 "metadata": {
  "kernelspec": {
   "display_name": "Python 3",
   "language": "python",
   "name": "python3"
  },
  "language_info": {
   "codemirror_mode": {
    "name": "ipython",
    "version": 3
   },
   "file_extension": ".py",
   "mimetype": "text/x-python",
   "name": "python",
   "nbconvert_exporter": "python",
   "pygments_lexer": "ipython3",
   "version": "3.7.6"
  }
 },
 "nbformat": 4,
 "nbformat_minor": 2
}
