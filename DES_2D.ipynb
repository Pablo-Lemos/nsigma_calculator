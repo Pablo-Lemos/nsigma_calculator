{
 "cells": [
  {
   "cell_type": "markdown",
   "metadata": {},
   "source": [
    "This code calculates the input tension through a Gaussian approximation the way Marco suggested. The idea is the following: \n",
    "\n",
    "- Read the DES mean and covariance for the shifted chains\n",
    "- Get a combined covariance by adding the DES and Planck covariance\n",
    "- Get a difference mean as mean_DES - mean_Planck\n",
    "- Get the p-value and number of sigma from a chi-squared distribution\n",
    "\n",
    "I try using the parameter combinations $\\Omega_m - \\sigma_8$ and $\\Omega_m - A_s$. I get **very different results for each approximation**. \n",
    "\n",
    "The conclusion from that is that if we pick our dimensions, the results depend on the parameterization chosen. **We should be using the full 5 dimensional posterior!!** Otherwise we are losing information and biasing our results"
   ]
  },
  {
   "cell_type": "code",
   "execution_count": 10,
   "metadata": {},
   "outputs": [],
   "source": [
    "# Imports\n",
    "import numpy as np\n",
    "import pandas as pd\n",
    "from stats import *\n",
    "from scipy.stats import chi2"
   ]
  },
  {
   "cell_type": "code",
   "execution_count": 2,
   "metadata": {},
   "outputs": [],
   "source": [
    "def reduce_mean(means_full, param = 'sigma8'):\n",
    "    '''Convert the mean in all parameters in a 2D array containing the mean\n",
    "    in Omega_m - sigma_8 or Omega_m - A_s\n",
    "    '''\n",
    "    if param == 'sigma8':\n",
    "        index = -5\n",
    "    elif param == 'As':\n",
    "        index = 4\n",
    "    \n",
    "    mean_red = means_full[[0, index]]\n",
    "    \n",
    "    if param == 'As':\n",
    "        mean_red[1]*=1e9\n",
    "    return mean_red\n",
    "\n",
    "def reduce_cov(cov_full, param = 'sigma8'):    \n",
    "    '''Convert the covariance in all parameters in a 2D array containing the \n",
    "    covariance in Omega_m - sigma_8 or Omega_m - A_s\n",
    "    '''\n",
    "    if param == 'sigma8':\n",
    "        index = -3\n",
    "    elif param == 'As':\n",
    "        index = 4\n",
    "        \n",
    "    cov_red = np.empty([2,2])\n",
    "    cov_red[0,0] = cov_full[0,0]\n",
    "    cov_red[1,0] = cov_full[index,0]\n",
    "    cov_red[0,1] = cov_full[0,index]\n",
    "    cov_red[1,1] = cov_full[index,index]\n",
    "    \n",
    "    if param == 'As':\n",
    "        cov_red[1]*=1e9\n",
    "        cov_red[:,1]*=1e9        \n",
    "    return cov_red\n",
    "    "
   ]
  },
  {
   "cell_type": "code",
   "execution_count": 3,
   "metadata": {},
   "outputs": [],
   "source": [
    "# Change this to your path to the chains\n",
    "PATH_TO_CHAINS = '../chains/'"
   ]
  },
  {
   "cell_type": "code",
   "execution_count": 4,
   "metadata": {},
   "outputs": [],
   "source": [
    "# Read Planck data\n",
    "mean_planck_full = np.loadtxt(PATH_TO_CHAINS+'chains_poly/0.01_tolerance/planck_poly0.01/means.txt', usecols = 1)\n",
    "c_planck_full = np.loadtxt(PATH_TO_CHAINS+'chains_poly/0.01_tolerance/planck_poly0.01/covmat.txt') "
   ]
  },
  {
   "cell_type": "code",
   "execution_count": 5,
   "metadata": {},
   "outputs": [],
   "source": [
    "#Assign names\n",
    "names = ['d_05sigD_s8', 'd_05sigU_om',\n",
    "        'd_1sigD_s8', 'd_1sigU_om',\n",
    "        'd_15sigD_s8', 'd_15sigU_om',\n",
    "        'd_2sigD_s8', 'd_2sigU_om',\n",
    "        'd_3sigD_s8', 'd_3sigU_om']"
   ]
  },
  {
   "cell_type": "code",
   "execution_count": 26,
   "metadata": {},
   "outputs": [
    {
     "name": "stdout",
     "output_type": "stream",
     "text": [
      "USING SIGMA 8\n",
      "d_05sigD_s8 0.18 sigma.\n",
      "d_05sigU_om 0.96 sigma.\n",
      "d_1sigD_s8 0.89 sigma.\n",
      "d_1sigU_om 1.91 sigma.\n",
      "d_15sigD_s8 1.91 sigma.\n",
      "d_15sigU_om 2.93 sigma.\n",
      "d_2sigD_s8 2.75 sigma.\n",
      "d_2sigU_om 3.64 sigma.\n",
      "d_3sigD_s8 4.58 sigma.\n",
      "d_3sigU_om 5.44 sigma.\n"
     ]
    }
   ],
   "source": [
    "print('USING SIGMA 8')\n",
    "\n",
    "# Reduce Planck data\n",
    "mean_planck = reduce_mean(mean_planck_full, param = 'sigma8')\n",
    "c_planck = reduce_cov(c_planck_full, param = 'sigma8')\n",
    "nsigma_s8 = []\n",
    "\n",
    "for name in names:\n",
    "    \n",
    "    # Read DES data\n",
    "    mean_des_full = np.loadtxt(PATH_TO_CHAINS+'chains_poly/0.01_tolerance/'+name+'/means.txt', usecols = 1)\n",
    "    c_des_full = np.loadtxt(PATH_TO_CHAINS+'chains_poly/0.01_tolerance/'+name+'/covmat.txt') \n",
    "\n",
    "    # Reduce DES data\n",
    "    mean_des = reduce_mean(mean_des_full, param = 'sigma8')\n",
    "    means = mean_des - mean_planck\n",
    "\n",
    "    c_des = reduce_cov(c_des_full, param = 'sigma8')\n",
    "    cov = c_des+c_planck\n",
    "    \n",
    "    # Calculate the number of sigma\n",
    "    chi2_norm = means.dot(np.linalg.inv(cov)).dot(means)\n",
    "    pval_norm = 1-chi2.cdf(chi2_norm, 2)\n",
    "    nsigma = get_nsigma(pval_norm)\n",
    "    nsigma_s8.append(round(nsigma, 4))\n",
    "    \n",
    "    # Print results\n",
    "    print(name, round(nsigma, 2), 'sigma.')\n"
   ]
  },
  {
   "cell_type": "code",
   "execution_count": 27,
   "metadata": {},
   "outputs": [
    {
     "name": "stdout",
     "output_type": "stream",
     "text": [
      "USING As\n",
      "d_05sigD_s8 0.07 sigma.\n",
      "d_05sigU_om 0.42 sigma.\n",
      "d_1sigD_s8 0.09 sigma.\n",
      "d_1sigU_om 0.87 sigma.\n",
      "d_15sigD_s8 0.19 sigma.\n",
      "d_15sigU_om 1.32 sigma.\n",
      "d_2sigD_s8 0.45 sigma.\n",
      "d_2sigU_om 1.98 sigma.\n",
      "d_3sigD_s8 0.92 sigma.\n",
      "d_3sigU_om 3.12 sigma.\n"
     ]
    }
   ],
   "source": [
    "print('USING As')\n",
    "\n",
    "# Reduce Planck data\n",
    "mean_planck = reduce_mean(mean_planck_full, param = 'As')\n",
    "c_planck = reduce_cov(c_planck_full, param = 'As')\n",
    "nsigma_as = []\n",
    "\n",
    "for name in names:\n",
    "\n",
    "    # Read DES data\n",
    "    mean_des_full = np.loadtxt(PATH_TO_CHAINS+'chains_poly/0.01_tolerance/'+name+'/means.txt', usecols = 1)\n",
    "    c_des_full = np.loadtxt(PATH_TO_CHAINS+'chains_poly/0.01_tolerance/'+name+'/covmat.txt') \n",
    "\n",
    "    # Reduce DES data\n",
    "    mean_des = reduce_mean(mean_des_full, param = 'As')\n",
    "    means = mean_des - mean_planck\n",
    "    \n",
    "    c_des = reduce_cov(c_des_full, param = 'As')\n",
    "    cov = c_des+c_planck\n",
    "    \n",
    "    # Calculate the number of sigma\n",
    "    chi2_norm = means.dot(np.linalg.inv(cov)).dot(means)\n",
    "    pval_norm = 1-chi2.cdf(chi2_norm, 2)\n",
    "    nsigma = get_nsigma(pval_norm)\n",
    "    nsigma_as.append(round(nsigma, 4))\n",
    "    \n",
    "    # Print results\n",
    "    print(name, round(nsigma, 2), 'sigma.')\n"
   ]
  },
  {
   "cell_type": "code",
   "execution_count": 44,
   "metadata": {},
   "outputs": [
    {
     "data": {
      "text/html": [
       "<div>\n",
       "<style scoped>\n",
       "    .dataframe tbody tr th:only-of-type {\n",
       "        vertical-align: middle;\n",
       "    }\n",
       "\n",
       "    .dataframe tbody tr th {\n",
       "        vertical-align: top;\n",
       "    }\n",
       "\n",
       "    .dataframe thead th {\n",
       "        text-align: right;\n",
       "    }\n",
       "</style>\n",
       "<table border=\"1\" class=\"dataframe\">\n",
       "  <thead>\n",
       "    <tr style=\"text-align: right;\">\n",
       "      <th></th>\n",
       "      <th>$\\Omega_m - \\sigma_8$</th>\n",
       "      <th>$\\Omega_m - A_s$</th>\n",
       "    </tr>\n",
       "  </thead>\n",
       "  <tbody>\n",
       "    <tr>\n",
       "      <th>$0.5 \\sigma$ Down $\\sigma_8$</th>\n",
       "      <td>0.1842</td>\n",
       "      <td>0.0694</td>\n",
       "    </tr>\n",
       "    <tr>\n",
       "      <th>$0.5 \\sigma$ Up $\\Omega_m$</th>\n",
       "      <td>0.9601</td>\n",
       "      <td>0.4171</td>\n",
       "    </tr>\n",
       "    <tr>\n",
       "      <th>$1 \\sigma$ Down $\\sigma_8$</th>\n",
       "      <td>0.8891</td>\n",
       "      <td>0.0929</td>\n",
       "    </tr>\n",
       "    <tr>\n",
       "      <th>$1 \\sigma$ Up $\\Omega_m$</th>\n",
       "      <td>1.9098</td>\n",
       "      <td>0.8682</td>\n",
       "    </tr>\n",
       "    <tr>\n",
       "      <th>$1.5 \\sigma$ Down $\\sigma_8$</th>\n",
       "      <td>1.9122</td>\n",
       "      <td>0.1928</td>\n",
       "    </tr>\n",
       "    <tr>\n",
       "      <th>$1.5 \\sigma$ Up $\\Omega_m$</th>\n",
       "      <td>2.9336</td>\n",
       "      <td>1.3166</td>\n",
       "    </tr>\n",
       "    <tr>\n",
       "      <th>$2 \\sigma$ Down $\\sigma_8$</th>\n",
       "      <td>2.7500</td>\n",
       "      <td>0.4538</td>\n",
       "    </tr>\n",
       "    <tr>\n",
       "      <th>$2 \\sigma$ Up $\\Omega_m$</th>\n",
       "      <td>3.6447</td>\n",
       "      <td>1.9842</td>\n",
       "    </tr>\n",
       "    <tr>\n",
       "      <th>$3 \\sigma$ Down $\\sigma_8$</th>\n",
       "      <td>4.5788</td>\n",
       "      <td>0.9199</td>\n",
       "    </tr>\n",
       "    <tr>\n",
       "      <th>$3 \\sigma$ Up $\\Omega_m$</th>\n",
       "      <td>5.4394</td>\n",
       "      <td>3.1163</td>\n",
       "    </tr>\n",
       "  </tbody>\n",
       "</table>\n",
       "</div>"
      ],
      "text/plain": [
       "                              $\\Omega_m - \\sigma_8$  $\\Omega_m - A_s$\n",
       "$0.5 \\sigma$ Down $\\sigma_8$                 0.1842            0.0694\n",
       "$0.5 \\sigma$ Up $\\Omega_m$                   0.9601            0.4171\n",
       "$1 \\sigma$ Down $\\sigma_8$                   0.8891            0.0929\n",
       "$1 \\sigma$ Up $\\Omega_m$                     1.9098            0.8682\n",
       "$1.5 \\sigma$ Down $\\sigma_8$                 1.9122            0.1928\n",
       "$1.5 \\sigma$ Up $\\Omega_m$                   2.9336            1.3166\n",
       "$2 \\sigma$ Down $\\sigma_8$                   2.7500            0.4538\n",
       "$2 \\sigma$ Up $\\Omega_m$                     3.6447            1.9842\n",
       "$3 \\sigma$ Down $\\sigma_8$                   4.5788            0.9199\n",
       "$3 \\sigma$ Up $\\Omega_m$                     5.4394            3.1163"
      ]
     },
     "execution_count": 44,
     "metadata": {},
     "output_type": "execute_result"
    }
   ],
   "source": [
    "columnames = ['$0.5 \\sigma$ Down $\\sigma_8$', '$0.5 \\sigma$ Up $\\Omega_m$',\n",
    "              '$1 \\sigma$ Down $\\sigma_8$', '$1 \\sigma$ Up $\\Omega_m$',\n",
    "              '$1.5 \\sigma$ Down $\\sigma_8$', '$1.5 \\sigma$ Up $\\Omega_m$',\n",
    "              '$2 \\sigma$ Down $\\sigma_8$', '$2 \\sigma$ Up $\\Omega_m$',\n",
    "              '$3 \\sigma$ Down $\\sigma_8$', '$3 \\sigma$ Up $\\Omega_m$',\n",
    "             ]\n",
    "data = zip(nsigma_s8, nsigma_as)\n",
    "df = pd.DataFrame(data, columns = ['$\\Omega_m - \\sigma_8$', '$\\Omega_m - A_s$'])\n",
    "df.index = columnames\n",
    "pd.set_option('display.width', 20000)\n",
    "df"
   ]
  },
  {
   "cell_type": "code",
   "execution_count": null,
   "metadata": {},
   "outputs": [],
   "source": []
  },
  {
   "cell_type": "code",
   "execution_count": null,
   "metadata": {},
   "outputs": [],
   "source": []
  }
 ],
 "metadata": {
  "kernelspec": {
   "display_name": "Python 3",
   "language": "python",
   "name": "python3"
  },
  "language_info": {
   "codemirror_mode": {
    "name": "ipython",
    "version": 3
   },
   "file_extension": ".py",
   "mimetype": "text/x-python",
   "name": "python",
   "nbconvert_exporter": "python",
   "pygments_lexer": "ipython3",
   "version": "3.7.6"
  }
 },
 "nbformat": 4,
 "nbformat_minor": 2
}
