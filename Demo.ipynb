{
 "cells": [
  {
   "cell_type": "markdown",
   "metadata": {},
   "source": [
    "This notebooks tests three different methods to calculate the PTE and number of sigma from a given point and a probability distribution:\n",
    "\n",
    "- Gaussian approximation\n",
    "- KDE\n",
    "- Nearest neighbour"
   ]
  },
  {
   "cell_type": "code",
   "execution_count": 1,
   "metadata": {},
   "outputs": [],
   "source": [
    "import numpy as np\n",
    "from gaussian_approximation import get_pte_from_gaussian\n",
    "from kde_method import get_pte_KDE\n",
    "from nearest_neighbour_method import get_pte_nearest_neighbour\n",
    "from stats import *"
   ]
  },
  {
   "cell_type": "markdown",
   "metadata": {},
   "source": [
    "# One dimensional example"
   ]
  },
  {
   "cell_type": "markdown",
   "metadata": {},
   "source": [
    "First, we test with a one dimensional Gaussian distribution centered at zero and with standard deviation 1. We use a point x = 2, so we expect to recover a PTE of ~0.05, and $2 \\sigma$ tension."
   ]
  },
  {
   "cell_type": "markdown",
   "metadata": {},
   "source": [
    "For this example, we use only the Gaussian approximation, which in this case is not an approximation, therefore we should recover exactly the expected result"
   ]
  },
  {
   "cell_type": "code",
   "execution_count": 2,
   "metadata": {},
   "outputs": [],
   "source": [
    "# Number of Gaussian samples to generate\n",
    "nsamples = int(1e6)\n",
    "\n",
    "x0 = 2\n",
    "mean = 0\n",
    "cov = 1"
   ]
  },
  {
   "cell_type": "code",
   "execution_count": 3,
   "metadata": {},
   "outputs": [
    {
     "name": "stdout",
     "output_type": "stream",
     "text": [
      "PTE = 0.04566300000000001\n",
      "Number of sigma = 1.9984951982454928\n"
     ]
    }
   ],
   "source": [
    "pte = get_pte_from_gaussian(x0, mean, cov, nsamples)\n",
    "nsigma = get_nsigma(pte)\n",
    "\n",
    "print('PTE =', pte)\n",
    "print('Number of sigma =', nsigma)"
   ]
  },
  {
   "cell_type": "markdown",
   "metadata": {},
   "source": [
    "# Two dimensional example"
   ]
  },
  {
   "cell_type": "markdown",
   "metadata": {},
   "source": [
    "Having checked that we recover the correct result for a one dimensional case, we move to two dimensions. We take the point $x = (2,2)$ for a Gaussian centered at zero with covariance identity. We want to compare the Gaussian approximation to the KDE and nearest neighbour methods. Therefore, we need a chain, which we generate using PolyChord"
   ]
  },
  {
   "cell_type": "markdown",
   "metadata": {},
   "source": [
    "First, we repeat the Gaussian approximation, which again will give us the true result"
   ]
  },
  {
   "cell_type": "code",
   "execution_count": 4,
   "metadata": {},
   "outputs": [],
   "source": [
    "# Number of Gaussian samples to generate\n",
    "nsamples = int(1e6)\n",
    "\n",
    "x0 = np.array([1,1])\n",
    "mean = (0, 0)\n",
    "cov = [[1, 0], [0, 1]]"
   ]
  },
  {
   "cell_type": "code",
   "execution_count": 5,
   "metadata": {
    "scrolled": true
   },
   "outputs": [
    {
     "name": "stdout",
     "output_type": "stream",
     "text": [
      "PTE = 0.367818\n",
      "Number of sigma = 0.9005681036168847\n"
     ]
    }
   ],
   "source": [
    "pte = get_pte_from_gaussian(x0, mean, cov, nsamples)\n",
    "nsigma = get_nsigma(pte)\n",
    "\n",
    "print('PTE =', pte)\n",
    "print('Number of sigma =', nsigma)"
   ]
  },
  {
   "cell_type": "markdown",
   "metadata": {},
   "source": [
    "We can now compare with the other two methods, using the PolyChord chain"
   ]
  },
  {
   "cell_type": "code",
   "execution_count": 6,
   "metadata": {},
   "outputs": [],
   "source": [
    "path_to_chains = 'chains/gaussian_2d'"
   ]
  },
  {
   "cell_type": "code",
   "execution_count": 7,
   "metadata": {},
   "outputs": [
    {
     "name": "stdout",
     "output_type": "stream",
     "text": [
      "PTE = 0.3506718263062343\n",
      "Number of sigma = 0.9332869595627669\n"
     ]
    }
   ],
   "source": [
    "# Bandwidth picked from a grid search\n",
    "pte = get_pte_KDE(x0, path_to_chains, bandwidth = 2, rtol = 1e-8)\n",
    "nsigma = get_nsigma(pte)\n",
    "\n",
    "print('PTE =', pte)\n",
    "print('Number of sigma =', nsigma)"
   ]
  },
  {
   "cell_type": "code",
   "execution_count": 8,
   "metadata": {},
   "outputs": [
    {
     "name": "stdout",
     "output_type": "stream",
     "text": [
      "PTE = 0.358960909692977\n",
      "Number of sigma = 0.9173468593387709\n"
     ]
    }
   ],
   "source": [
    "pte = get_pte_nearest_neighbour(x0, path_to_chains)\n",
    "nsigma = get_nsigma(pte)\n",
    "\n",
    "print('PTE =', pte)\n",
    "print('Number of sigma =', nsigma)"
   ]
  },
  {
   "cell_type": "markdown",
   "metadata": {},
   "source": [
    "The KDE method works pretty well, but it depends heavily on the bandwidth, and I am not sure which one is better. \n",
    "\n",
    "The nearest neighbour method is very quick, and gives a decent result, but will quick degrade with dimensionality"
   ]
  },
  {
   "cell_type": "code",
   "execution_count": null,
   "metadata": {},
   "outputs": [],
   "source": []
  }
 ],
 "metadata": {
  "kernelspec": {
   "display_name": "Python 3",
   "language": "python",
   "name": "python3"
  },
  "language_info": {
   "codemirror_mode": {
    "name": "ipython",
    "version": 3
   },
   "file_extension": ".py",
   "mimetype": "text/x-python",
   "name": "python",
   "nbconvert_exporter": "python",
   "pygments_lexer": "ipython3",
   "version": "3.7.6"
  }
 },
 "nbformat": 4,
 "nbformat_minor": 2
}
