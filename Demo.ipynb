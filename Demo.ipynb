{
 "cells": [
  {
   "cell_type": "code",
   "execution_count": 1,
   "metadata": {},
   "outputs": [],
   "source": [
    "import numpy as np\n",
    "from gaussian_approximation import get_pte_from_gaussian\n",
    "from kde_method import get_pte_KDE\n",
    "from nearest_neighbour_method import get_pte_nearest_neighbour\n",
    "from stats import *"
   ]
  },
  {
   "cell_type": "markdown",
   "metadata": {},
   "source": [
    "One dimensional test case, x0 is at 1 sigma"
   ]
  },
  {
   "cell_type": "code",
   "execution_count": 2,
   "metadata": {},
   "outputs": [],
   "source": [
    "nsamples = int(1e5)\n",
    "\n",
    "x0 = 2\n",
    "mean = 0\n",
    "cov = 1"
   ]
  },
  {
   "cell_type": "code",
   "execution_count": 3,
   "metadata": {},
   "outputs": [
    {
     "name": "stdout",
     "output_type": "stream",
     "text": [
      "PTE = 0.04527999999999999\n",
      "Number of sigma = 2.0020439954059306\n"
     ]
    }
   ],
   "source": [
    "pte = get_pte_from_gaussian(x0, mean, cov, nsamples)\n",
    "nsigma = get_nsigma(pte)\n",
    "\n",
    "print('PTE =', pte)\n",
    "print('Number of sigma =', nsigma)"
   ]
  },
  {
   "cell_type": "markdown",
   "metadata": {},
   "source": [
    "Two dimensional test case"
   ]
  },
  {
   "cell_type": "code",
   "execution_count": 4,
   "metadata": {},
   "outputs": [],
   "source": [
    "x0 = np.array([np.sqrt(6),0])\n",
    "mean = (0, 0)\n",
    "cov = [[1, 0], [0, 1]]"
   ]
  },
  {
   "cell_type": "code",
   "execution_count": 5,
   "metadata": {
    "scrolled": true
   },
   "outputs": [
    {
     "name": "stdout",
     "output_type": "stream",
     "text": [
      "PTE = 0.050000000000000044\n",
      "Number of sigma = 1.959963984540054\n"
     ]
    }
   ],
   "source": [
    "pte = get_pte_from_gaussian(x0, mean, cov, nsamples)\n",
    "nsigma = get_nsigma(pte)\n",
    "\n",
    "print('PTE =', pte)\n",
    "print('Number of sigma =', nsigma)"
   ]
  },
  {
   "cell_type": "markdown",
   "metadata": {},
   "source": [
    "Compare with KDE method from a chain with the same covariance and means"
   ]
  },
  {
   "cell_type": "code",
   "execution_count": 6,
   "metadata": {},
   "outputs": [],
   "source": [
    "path_to_chains = '/Users/Pablo/Code/PolyChordLite_old/chains/gauss'"
   ]
  },
  {
   "cell_type": "code",
   "execution_count": 7,
   "metadata": {},
   "outputs": [],
   "source": [
    "#pte = get_pte_KDE(x0, path_to_chains, bandwidth = 0.1, rtol = 1e-4)\n",
    "#nsigma = get_nsigma(pte)\n",
    "\n",
    "#print('PTE =', pte)\n",
    "#print('Number of sigma =', nsigma)"
   ]
  },
  {
   "cell_type": "code",
   "execution_count": 8,
   "metadata": {},
   "outputs": [
    {
     "name": "stdout",
     "output_type": "stream",
     "text": [
      "[2.43077528 0.02965162]\n",
      "-4.792650903812715\n",
      "PTE = 0.052338199286417364\n",
      "Number of sigma = 1.9403415142429987\n"
     ]
    }
   ],
   "source": [
    "pte = get_pte_nearest_neighbour(x0, path_to_chains)\n",
    "nsigma = get_nsigma(pte)\n",
    "\n",
    "print('PTE =', pte)\n",
    "print('Number of sigma =', nsigma)"
   ]
  },
  {
   "cell_type": "markdown",
   "metadata": {},
   "source": [
    "I think the KDE stops working in a 5D case. Lets try it "
   ]
  },
  {
   "cell_type": "code",
   "execution_count": 29,
   "metadata": {},
   "outputs": [],
   "source": [
    "x0 = np.ones(5)\n",
    "mean = np.zeros(5)\n",
    "cov = np.identity(5)"
   ]
  },
  {
   "cell_type": "code",
   "execution_count": 30,
   "metadata": {},
   "outputs": [
    {
     "name": "stdout",
     "output_type": "stream",
     "text": [
      "PTE = 0.415285\n",
      "Number of sigma = 0.814628485536157\n"
     ]
    }
   ],
   "source": [
    "pte = get_pte_from_gaussian(x0, mean, cov, nsamples)\n",
    "nsigma = get_nsigma(pte)\n",
    "\n",
    "print('PTE =', pte)\n",
    "print('Number of sigma =', nsigma)"
   ]
  },
  {
   "cell_type": "code",
   "execution_count": null,
   "metadata": {},
   "outputs": [],
   "source": [
    "path_to_chains = '/Users/Pablo/Code/PolyChordLite_old/chains/gauss_5d'"
   ]
  },
  {
   "cell_type": "markdown",
   "metadata": {},
   "source": [
    "Now try with the DES and Planck case. First, the Gaussian approximation. We can build a covariance from both covariances"
   ]
  },
  {
   "cell_type": "code",
   "execution_count": 9,
   "metadata": {},
   "outputs": [],
   "source": [
    "#DES case\n",
    "path_to_chains = '/Users/Pablo/Projets/Tension/diff_chains/diff'\n",
    "\n",
    "means_planck = np.loadtxt('/Users/Pablo/Projets/Tension/sims_mean_var/baseline/cosmological_parameters/values.txt', usecols = [2], unpack=True)[[17,3,13,10,0]]\n",
    "x1_s8 = np.loadtxt('/Users/Pablo/Projets/Tension/sims_mean_var/s8_1sigma/cosmological_parameters/values.txt', usecols = [2], unpack=True)[[17,3,13,10,0]]\n",
    "x0 = x1_s8 - means_planck\n",
    "x0[4] = x0[4]*1e9\n",
    "\n",
    "c_des = np.loadtxt('/Users/Pablo/Projets/Tension/chains/chains_poly/0.01_tolerance/d_noiseless/covmat.txt') \n",
    "c_planck = np.loadtxt('/Users/Pablo/Projets/Tension/chains/chains_poly/0.01_tolerance/planck_poly0.01/covmat.txt') \n",
    "\n",
    "c_des = c_des[:5, :5]\n",
    "c_des[4] = c_des[4]*1e9\n",
    "c_des[:,4] = c_des[:,4]*1e9\n",
    "\n",
    "c_planck = c_planck[:5, :5]\n",
    "c_planck[4] = c_planck[4]*1e9\n",
    "c_planck[:,4] = c_planck[:,4]*1e9\n",
    "\n",
    "mean = np.zeros(5)\n",
    "cov = c_des+c_planck\n",
    "\n",
    "nsamples = int(1e6)"
   ]
  },
  {
   "cell_type": "markdown",
   "metadata": {},
   "source": [
    "Test with Planck only first"
   ]
  },
  {
   "cell_type": "code",
   "execution_count": 10,
   "metadata": {},
   "outputs": [
    {
     "name": "stdout",
     "output_type": "stream",
     "text": [
      "PTE = 0.36268999999999996\n",
      "Number of sigma = 0.9102512911380762\n"
     ]
    }
   ],
   "source": [
    "x1 = np.copy(means_planck)\n",
    "x1 += 0.1*np.sqrt(np.diag(c_planck))\n",
    "#x1[4]*=1e9\n",
    "#means_planck[4]*=1e9\n",
    "\n",
    "pte = get_pte_from_gaussian(x1, means_planck, c_planck, nsamples)\n",
    "nsigma = get_nsigma(pte)\n",
    "\n",
    "print('PTE =', pte)\n",
    "print('Number of sigma =', nsigma)"
   ]
  },
  {
   "cell_type": "code",
   "execution_count": 11,
   "metadata": {},
   "outputs": [],
   "source": [
    "path_to_chains = '/Users/Pablo/Projets/Tension/chains/chains_poly/0.01_tolerance/planck_poly0.01/planck'"
   ]
  },
  {
   "cell_type": "code",
   "execution_count": 12,
   "metadata": {},
   "outputs": [],
   "source": [
    "from kde_method import *\n",
    "weights, loglike_samples, X = load_chains(path_to_chains)"
   ]
  },
  {
   "cell_type": "code",
   "execution_count": 13,
   "metadata": {},
   "outputs": [
    {
     "data": {
      "text/plain": [
       "(5658, 5)"
      ]
     },
     "execution_count": 13,
     "metadata": {},
     "output_type": "execute_result"
    }
   ],
   "source": [
    "X = X[:,:5]\n",
    "X.shape"
   ]
  },
  {
   "cell_type": "code",
   "execution_count": 14,
   "metadata": {},
   "outputs": [],
   "source": [
    "kde = fit_kde(X, weights, bandwidth=0.0025, rtol = 1e-8)\n",
    "loglike_kde = get_kde_loglike(X, kde)"
   ]
  },
  {
   "cell_type": "code",
   "execution_count": 15,
   "metadata": {},
   "outputs": [],
   "source": [
    "loglike_x = get_kde_loglike([x1], kde)"
   ]
  },
  {
   "cell_type": "code",
   "execution_count": 16,
   "metadata": {},
   "outputs": [
    {
     "name": "stdout",
     "output_type": "stream",
     "text": [
      "PTE = 0.0002789811970443923\n",
      "Number of sigma = 3.6340736232428896\n"
     ]
    }
   ],
   "source": [
    "pte = get_pte_from_samples(x0, loglike_x, loglike_kde, weights = weights)\n",
    "nsigma = get_nsigma(pte)\n",
    "\n",
    "print('PTE =', pte)\n",
    "print('Number of sigma =', nsigma)"
   ]
  },
  {
   "cell_type": "code",
   "execution_count": 17,
   "metadata": {},
   "outputs": [],
   "source": [
    "#ll = loglike_kde*max(-0.5*loglike_samples)/max(loglike_kde)"
   ]
  },
  {
   "cell_type": "code",
   "execution_count": 25,
   "metadata": {},
   "outputs": [
    {
     "data": {
      "text/plain": [
       "<function matplotlib.pyplot.show(*args, **kw)>"
      ]
     },
     "execution_count": 25,
     "metadata": {},
     "output_type": "execute_result"
    },
    {
     "data": {
      "image/png": "[encoded data removed]",
      "text/plain": [
       "<Figure size 432x288 with 1 Axes>"
      ]
     },
     "metadata": {
      "needs_background": "light"
     },
     "output_type": "display_data"
    }
   ],
   "source": [
    "import matplotlib.pyplot as plt\n",
    "i = np.arange(len(loglike_samples))\n",
    "plt.scatter(i, loglike_samples)\n",
    "plt.show"
   ]
  },
  {
   "cell_type": "code",
   "execution_count": 28,
   "metadata": {},
   "outputs": [
    {
     "data": {
      "text/plain": [
       "<matplotlib.collections.PathCollection at 0x12e2a6410>"
      ]
     },
     "execution_count": 28,
     "metadata": {},
     "output_type": "execute_result"
    },
    {
     "data": {
      "image/png": "[encoded data removed]",
      "text/plain": [
       "<Figure size 432x288 with 1 Axes>"
      ]
     },
     "metadata": {
      "needs_background": "light"
     },
     "output_type": "display_data"
    }
   ],
   "source": [
    "plt.scatter(i, loglike_kde)"
   ]
  },
  {
   "cell_type": "code",
   "execution_count": null,
   "metadata": {},
   "outputs": [],
   "source": [
    "from sklearn.model_selection import GridSearchCV\n",
    "from sklearn.model_selection import LeaveOneOut\n",
    "\n",
    "bandwidths = 10 ** np.linspace(-3, 1, 50)\n",
    "grid = GridSearchCV(KernelDensity(),\n",
    "                    {'bandwidth': bandwidths},\n",
    "                    cv=20) # 20-fold cross-validation\n",
    "grid.fit(X)\n",
    "print(grid.best_params_)"
   ]
  },
  {
   "cell_type": "code",
   "execution_count": null,
   "metadata": {},
   "outputs": [],
   "source": []
  },
  {
   "cell_type": "code",
   "execution_count": null,
   "metadata": {},
   "outputs": [],
   "source": []
  },
  {
   "cell_type": "code",
   "execution_count": null,
   "metadata": {},
   "outputs": [],
   "source": []
  },
  {
   "cell_type": "code",
   "execution_count": null,
   "metadata": {},
   "outputs": [],
   "source": []
  },
  {
   "cell_type": "code",
   "execution_count": null,
   "metadata": {},
   "outputs": [],
   "source": []
  },
  {
   "cell_type": "code",
   "execution_count": null,
   "metadata": {},
   "outputs": [],
   "source": []
  },
  {
   "cell_type": "code",
   "execution_count": null,
   "metadata": {},
   "outputs": [],
   "source": []
  },
  {
   "cell_type": "code",
   "execution_count": null,
   "metadata": {},
   "outputs": [],
   "source": []
  },
  {
   "cell_type": "code",
   "execution_count": 13,
   "metadata": {},
   "outputs": [
    {
     "name": "stdout",
     "output_type": "stream",
     "text": [
      "PTE = 0.684632\n",
      "Number of sigma = 0.40615053020188596\n"
     ]
    }
   ],
   "source": [
    "pte = get_pte_from_gaussian(x0, mean, cov, nsamples)\n",
    "nsigma = get_nsigma(pte)\n",
    "\n",
    "print('PTE =', pte)\n",
    "print('Number of sigma =', nsigma)"
   ]
  },
  {
   "cell_type": "code",
   "execution_count": 14,
   "metadata": {},
   "outputs": [],
   "source": [
    "x0[4] = x0[4]*1e-9"
   ]
  },
  {
   "cell_type": "markdown",
   "metadata": {},
   "source": [
    "To compare, we use the difference chain and the nearest neighbour method"
   ]
  },
  {
   "cell_type": "code",
   "execution_count": 15,
   "metadata": {},
   "outputs": [
    {
     "name": "stdout",
     "output_type": "stream",
     "text": [
      "[ 7.92836183e-03  4.07152033e-03  4.89785713e-04 -1.17588643e-03\n",
      " -2.78984334e-10 -3.55973899e-02]\n",
      "-3.72704575257698\n",
      "PTE = 0.0007548053346635442\n",
      "Number of sigma = 3.3688571633312407\n"
     ]
    }
   ],
   "source": [
    "pte = get_pte_nearest_neighbour(x0, path_to_chains)\n",
    "nsigma = get_nsigma(pte)\n",
    "\n",
    "print('PTE =', pte)\n",
    "print('Number of sigma =', nsigma)"
   ]
  },
  {
   "cell_type": "code",
   "execution_count": 17,
   "metadata": {},
   "outputs": [],
   "source": [
    "from kde_method import *"
   ]
  },
  {
   "cell_type": "code",
   "execution_count": 18,
   "metadata": {},
   "outputs": [],
   "source": [
    "weights, loglike_samples, X = load_chains(path_to_chains)"
   ]
  },
  {
   "cell_type": "code",
   "execution_count": 23,
   "metadata": {},
   "outputs": [],
   "source": [
    "ind = np.where(weights>0)\n",
    "weights = weights[ind]\n",
    "X = X[ind]"
   ]
  },
  {
   "cell_type": "code",
   "execution_count": 24,
   "metadata": {},
   "outputs": [],
   "source": [
    "kde = fit_kde(X, weights, bandwidth=0.1, rtol = 1e-4)"
   ]
  },
  {
   "cell_type": "code",
   "execution_count": 25,
   "metadata": {},
   "outputs": [],
   "source": [
    "loglike_kde = get_kde_loglike(X, kde)"
   ]
  },
  {
   "cell_type": "code",
   "execution_count": 27,
   "metadata": {},
   "outputs": [],
   "source": [
    "loglike_x = get_kde_loglike([x0], kde)"
   ]
  },
  {
   "cell_type": "code",
   "execution_count": 33,
   "metadata": {},
   "outputs": [
    {
     "name": "stdout",
     "output_type": "stream",
     "text": [
      "PTE = 0.957946404296205\n",
      "Number of sigma = 0.05273079248048723\n"
     ]
    }
   ],
   "source": [
    "pte = get_pte_from_samples(x0, loglike_x, loglike_kde, weights = weights)\n",
    "nsigma = get_nsigma(pte)\n",
    "\n",
    "print('PTE =', pte)\n",
    "print('Number of sigma =', nsigma)"
   ]
  },
  {
   "cell_type": "code",
   "execution_count": 34,
   "metadata": {},
   "outputs": [
    {
     "data": {
      "text/plain": [
       "array([6.68534759, 7.24488801, 7.36149273, ..., 7.27835825, 7.40312992,\n",
       "       7.80977588])"
      ]
     },
     "execution_count": 34,
     "metadata": {},
     "output_type": "execute_result"
    }
   ],
   "source": [
    "loglike_kde"
   ]
  },
  {
   "cell_type": "code",
   "execution_count": null,
   "metadata": {},
   "outputs": [],
   "source": [
    "path_to_chains = '/Users/Pablo/Code/PolyChordLite_old/chains/gauss'\n",
    "weights, loglike_samples, X = load_chains(path_to_chains)"
   ]
  },
  {
   "cell_type": "code",
   "execution_count": null,
   "metadata": {},
   "outputs": [],
   "source": [
    "from sklearn.model_selection import GridSearchCV\n",
    "from sklearn.model_selection import LeaveOneOut\n",
    "\n",
    "bandwidths = 10 ** np.linspace(-1, 1, 100)\n",
    "grid = GridSearchCV(KernelDensity(kernel='gaussian'),\n",
    "                    {'bandwidth': bandwidths},\n",
    "                    cv=LeaveOneOut(len(X)))\n",
    "grid.fit(X);"
   ]
  },
  {
   "cell_type": "code",
   "execution_count": null,
   "metadata": {},
   "outputs": [],
   "source": [
    "grid = GridSearchCV(KernelDensity(kernel = 'gaussian'),{'bandwidth': np.linspace(0.1, 0.5, 20)}, cv = 5, iid = True)"
   ]
  },
  {
   "cell_type": "code",
   "execution_count": null,
   "metadata": {},
   "outputs": [],
   "source": [
    "grid.fit(X)"
   ]
  },
  {
   "cell_type": "code",
   "execution_count": null,
   "metadata": {},
   "outputs": [],
   "source": [
    "from sklearn.model_selection import GridSearchCV\n",
    "from sklearn.model_selection import LeaveOneOut\n",
    "\n",
    "bandwidths = 10 ** np.linspace(-3, 1, 50)\n",
    "grid = GridSearchCV(KernelDensity(),\n",
    "                    {'bandwidth': bandwidths, 'rtol':1e-4*np.ones(len(bandwidths))},\n",
    "                    cv=20) # 20-fold cross-validation\n",
    "grid.fit(X[-5000:])\n",
    "print(grid.best_params_)"
   ]
  },
  {
   "cell_type": "code",
   "execution_count": null,
   "metadata": {},
   "outputs": [],
   "source": [
    "X.shape"
   ]
  },
  {
   "cell_type": "code",
   "execution_count": null,
   "metadata": {},
   "outputs": [],
   "source": [
    "X[-5000:]"
   ]
  },
  {
   "cell_type": "code",
   "execution_count": null,
   "metadata": {},
   "outputs": [],
   "source": []
  }
 ],
 "metadata": {
  "kernelspec": {
   "display_name": "Python 3",
   "language": "python",
   "name": "python3"
  },
  "language_info": {
   "codemirror_mode": {
    "name": "ipython",
    "version": 3
   },
   "file_extension": ".py",
   "mimetype": "text/x-python",
   "name": "python",
   "nbconvert_exporter": "python",
   "pygments_lexer": "ipython3",
   "version": "3.7.6"
  }
 },
 "nbformat": 4,
 "nbformat_minor": 2
}
